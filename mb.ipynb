{
 "cells": [
  {
   "cell_type": "markdown",
   "id": "d6f5b534",
   "metadata": {},
   "source": [
    "# MediBuddy"
   ]
  },
  {
   "cell_type": "markdown",
   "id": "7a73a615",
   "metadata": {},
   "source": [
    "## Importing Necessary Modules/Libraries"
   ]
  },
  {
   "cell_type": "code",
   "execution_count": 2,
   "id": "dc358c77",
   "metadata": {},
   "outputs": [],
   "source": [
    "import numpy as np\n",
    "import pandas as pd\n",
    "import matplotlib.pyplot as plt\n",
    "import seaborn as sns"
   ]
  },
  {
   "cell_type": "markdown",
   "id": "a6e82382",
   "metadata": {},
   "source": [
    "## Loading the Datasets"
   ]
  },
  {
   "cell_type": "code",
   "execution_count": 3,
   "id": "ee877075",
   "metadata": {},
   "outputs": [],
   "source": [
    "df = pd.read_csv('data/Training.csv')"
   ]
  },
  {
   "cell_type": "code",
   "execution_count": 4,
   "id": "b4a5e299",
   "metadata": {},
   "outputs": [
    {
     "data": {
      "application/vnd.microsoft.datawrangler.viewer.v0+json": {
       "columns": [
        {
         "name": "index",
         "rawType": "int64",
         "type": "integer"
        },
        {
         "name": "itching",
         "rawType": "int64",
         "type": "integer"
        },
        {
         "name": "skin_rash",
         "rawType": "int64",
         "type": "integer"
        },
        {
         "name": "nodal_skin_eruptions",
         "rawType": "int64",
         "type": "integer"
        },
        {
         "name": "continuous_sneezing",
         "rawType": "int64",
         "type": "integer"
        },
        {
         "name": "shivering",
         "rawType": "int64",
         "type": "integer"
        },
        {
         "name": "chills",
         "rawType": "int64",
         "type": "integer"
        },
        {
         "name": "joint_pain",
         "rawType": "int64",
         "type": "integer"
        },
        {
         "name": "stomach_pain",
         "rawType": "int64",
         "type": "integer"
        },
        {
         "name": "acidity",
         "rawType": "int64",
         "type": "integer"
        },
        {
         "name": "ulcers_on_tongue",
         "rawType": "int64",
         "type": "integer"
        },
        {
         "name": "muscle_wasting",
         "rawType": "int64",
         "type": "integer"
        },
        {
         "name": "vomiting",
         "rawType": "int64",
         "type": "integer"
        },
        {
         "name": "burning_micturition",
         "rawType": "int64",
         "type": "integer"
        },
        {
         "name": "spotting_ urination",
         "rawType": "int64",
         "type": "integer"
        },
        {
         "name": "fatigue",
         "rawType": "int64",
         "type": "integer"
        },
        {
         "name": "weight_gain",
         "rawType": "int64",
         "type": "integer"
        },
        {
         "name": "anxiety",
         "rawType": "int64",
         "type": "integer"
        },
        {
         "name": "cold_hands_and_feets",
         "rawType": "int64",
         "type": "integer"
        },
        {
         "name": "mood_swings",
         "rawType": "int64",
         "type": "integer"
        },
        {
         "name": "weight_loss",
         "rawType": "int64",
         "type": "integer"
        },
        {
         "name": "restlessness",
         "rawType": "int64",
         "type": "integer"
        },
        {
         "name": "lethargy",
         "rawType": "int64",
         "type": "integer"
        },
        {
         "name": "patches_in_throat",
         "rawType": "int64",
         "type": "integer"
        },
        {
         "name": "irregular_sugar_level",
         "rawType": "int64",
         "type": "integer"
        },
        {
         "name": "cough",
         "rawType": "int64",
         "type": "integer"
        },
        {
         "name": "high_fever",
         "rawType": "int64",
         "type": "integer"
        },
        {
         "name": "sunken_eyes",
         "rawType": "int64",
         "type": "integer"
        },
        {
         "name": "breathlessness",
         "rawType": "int64",
         "type": "integer"
        },
        {
         "name": "sweating",
         "rawType": "int64",
         "type": "integer"
        },
        {
         "name": "dehydration",
         "rawType": "int64",
         "type": "integer"
        },
        {
         "name": "indigestion",
         "rawType": "int64",
         "type": "integer"
        },
        {
         "name": "headache",
         "rawType": "int64",
         "type": "integer"
        },
        {
         "name": "yellowish_skin",
         "rawType": "int64",
         "type": "integer"
        },
        {
         "name": "dark_urine",
         "rawType": "int64",
         "type": "integer"
        },
        {
         "name": "nausea",
         "rawType": "int64",
         "type": "integer"
        },
        {
         "name": "loss_of_appetite",
         "rawType": "int64",
         "type": "integer"
        },
        {
         "name": "pain_behind_the_eyes",
         "rawType": "int64",
         "type": "integer"
        },
        {
         "name": "back_pain",
         "rawType": "int64",
         "type": "integer"
        },
        {
         "name": "constipation",
         "rawType": "int64",
         "type": "integer"
        },
        {
         "name": "abdominal_pain",
         "rawType": "int64",
         "type": "integer"
        },
        {
         "name": "diarrhoea",
         "rawType": "int64",
         "type": "integer"
        },
        {
         "name": "mild_fever",
         "rawType": "int64",
         "type": "integer"
        },
        {
         "name": "yellow_urine",
         "rawType": "int64",
         "type": "integer"
        },
        {
         "name": "yellowing_of_eyes",
         "rawType": "int64",
         "type": "integer"
        },
        {
         "name": "acute_liver_failure",
         "rawType": "int64",
         "type": "integer"
        },
        {
         "name": "fluid_overload",
         "rawType": "int64",
         "type": "integer"
        },
        {
         "name": "swelling_of_stomach",
         "rawType": "int64",
         "type": "integer"
        },
        {
         "name": "swelled_lymph_nodes",
         "rawType": "int64",
         "type": "integer"
        },
        {
         "name": "malaise",
         "rawType": "int64",
         "type": "integer"
        },
        {
         "name": "blurred_and_distorted_vision",
         "rawType": "int64",
         "type": "integer"
        },
        {
         "name": "phlegm",
         "rawType": "int64",
         "type": "integer"
        },
        {
         "name": "throat_irritation",
         "rawType": "int64",
         "type": "integer"
        },
        {
         "name": "redness_of_eyes",
         "rawType": "int64",
         "type": "integer"
        },
        {
         "name": "sinus_pressure",
         "rawType": "int64",
         "type": "integer"
        },
        {
         "name": "runny_nose",
         "rawType": "int64",
         "type": "integer"
        },
        {
         "name": "congestion",
         "rawType": "int64",
         "type": "integer"
        },
        {
         "name": "chest_pain",
         "rawType": "int64",
         "type": "integer"
        },
        {
         "name": "weakness_in_limbs",
         "rawType": "int64",
         "type": "integer"
        },
        {
         "name": "fast_heart_rate",
         "rawType": "int64",
         "type": "integer"
        },
        {
         "name": "pain_during_bowel_movements",
         "rawType": "int64",
         "type": "integer"
        },
        {
         "name": "pain_in_anal_region",
         "rawType": "int64",
         "type": "integer"
        },
        {
         "name": "bloody_stool",
         "rawType": "int64",
         "type": "integer"
        },
        {
         "name": "irritation_in_anus",
         "rawType": "int64",
         "type": "integer"
        },
        {
         "name": "neck_pain",
         "rawType": "int64",
         "type": "integer"
        },
        {
         "name": "dizziness",
         "rawType": "int64",
         "type": "integer"
        },
        {
         "name": "cramps",
         "rawType": "int64",
         "type": "integer"
        },
        {
         "name": "bruising",
         "rawType": "int64",
         "type": "integer"
        },
        {
         "name": "obesity",
         "rawType": "int64",
         "type": "integer"
        },
        {
         "name": "swollen_legs",
         "rawType": "int64",
         "type": "integer"
        },
        {
         "name": "swollen_blood_vessels",
         "rawType": "int64",
         "type": "integer"
        },
        {
         "name": "puffy_face_and_eyes",
         "rawType": "int64",
         "type": "integer"
        },
        {
         "name": "enlarged_thyroid",
         "rawType": "int64",
         "type": "integer"
        },
        {
         "name": "brittle_nails",
         "rawType": "int64",
         "type": "integer"
        },
        {
         "name": "swollen_extremeties",
         "rawType": "int64",
         "type": "integer"
        },
        {
         "name": "excessive_hunger",
         "rawType": "int64",
         "type": "integer"
        },
        {
         "name": "extra_marital_contacts",
         "rawType": "int64",
         "type": "integer"
        },
        {
         "name": "drying_and_tingling_lips",
         "rawType": "int64",
         "type": "integer"
        },
        {
         "name": "slurred_speech",
         "rawType": "int64",
         "type": "integer"
        },
        {
         "name": "knee_pain",
         "rawType": "int64",
         "type": "integer"
        },
        {
         "name": "hip_joint_pain",
         "rawType": "int64",
         "type": "integer"
        },
        {
         "name": "muscle_weakness",
         "rawType": "int64",
         "type": "integer"
        },
        {
         "name": "stiff_neck",
         "rawType": "int64",
         "type": "integer"
        },
        {
         "name": "swelling_joints",
         "rawType": "int64",
         "type": "integer"
        },
        {
         "name": "movement_stiffness",
         "rawType": "int64",
         "type": "integer"
        },
        {
         "name": "spinning_movements",
         "rawType": "int64",
         "type": "integer"
        },
        {
         "name": "loss_of_balance",
         "rawType": "int64",
         "type": "integer"
        },
        {
         "name": "unsteadiness",
         "rawType": "int64",
         "type": "integer"
        },
        {
         "name": "weakness_of_one_body_side",
         "rawType": "int64",
         "type": "integer"
        },
        {
         "name": "loss_of_smell",
         "rawType": "int64",
         "type": "integer"
        },
        {
         "name": "bladder_discomfort",
         "rawType": "int64",
         "type": "integer"
        },
        {
         "name": "foul_smell_of urine",
         "rawType": "int64",
         "type": "integer"
        },
        {
         "name": "continuous_feel_of_urine",
         "rawType": "int64",
         "type": "integer"
        },
        {
         "name": "passage_of_gases",
         "rawType": "int64",
         "type": "integer"
        },
        {
         "name": "internal_itching",
         "rawType": "int64",
         "type": "integer"
        },
        {
         "name": "toxic_look_(typhos)",
         "rawType": "int64",
         "type": "integer"
        },
        {
         "name": "depression",
         "rawType": "int64",
         "type": "integer"
        },
        {
         "name": "irritability",
         "rawType": "int64",
         "type": "integer"
        },
        {
         "name": "muscle_pain",
         "rawType": "int64",
         "type": "integer"
        },
        {
         "name": "altered_sensorium",
         "rawType": "int64",
         "type": "integer"
        },
        {
         "name": "red_spots_over_body",
         "rawType": "int64",
         "type": "integer"
        },
        {
         "name": "belly_pain",
         "rawType": "int64",
         "type": "integer"
        },
        {
         "name": "abnormal_menstruation",
         "rawType": "int64",
         "type": "integer"
        },
        {
         "name": "dischromic _patches",
         "rawType": "int64",
         "type": "integer"
        },
        {
         "name": "watering_from_eyes",
         "rawType": "int64",
         "type": "integer"
        },
        {
         "name": "increased_appetite",
         "rawType": "int64",
         "type": "integer"
        },
        {
         "name": "polyuria",
         "rawType": "int64",
         "type": "integer"
        },
        {
         "name": "family_history",
         "rawType": "int64",
         "type": "integer"
        },
        {
         "name": "mucoid_sputum",
         "rawType": "int64",
         "type": "integer"
        },
        {
         "name": "rusty_sputum",
         "rawType": "int64",
         "type": "integer"
        },
        {
         "name": "lack_of_concentration",
         "rawType": "int64",
         "type": "integer"
        },
        {
         "name": "visual_disturbances",
         "rawType": "int64",
         "type": "integer"
        },
        {
         "name": "receiving_blood_transfusion",
         "rawType": "int64",
         "type": "integer"
        },
        {
         "name": "receiving_unsterile_injections",
         "rawType": "int64",
         "type": "integer"
        },
        {
         "name": "coma",
         "rawType": "int64",
         "type": "integer"
        },
        {
         "name": "stomach_bleeding",
         "rawType": "int64",
         "type": "integer"
        },
        {
         "name": "distention_of_abdomen",
         "rawType": "int64",
         "type": "integer"
        },
        {
         "name": "history_of_alcohol_consumption",
         "rawType": "int64",
         "type": "integer"
        },
        {
         "name": "fluid_overload.1",
         "rawType": "int64",
         "type": "integer"
        },
        {
         "name": "blood_in_sputum",
         "rawType": "int64",
         "type": "integer"
        },
        {
         "name": "prominent_veins_on_calf",
         "rawType": "int64",
         "type": "integer"
        },
        {
         "name": "palpitations",
         "rawType": "int64",
         "type": "integer"
        },
        {
         "name": "painful_walking",
         "rawType": "int64",
         "type": "integer"
        },
        {
         "name": "pus_filled_pimples",
         "rawType": "int64",
         "type": "integer"
        },
        {
         "name": "blackheads",
         "rawType": "int64",
         "type": "integer"
        },
        {
         "name": "scurring",
         "rawType": "int64",
         "type": "integer"
        },
        {
         "name": "skin_peeling",
         "rawType": "int64",
         "type": "integer"
        },
        {
         "name": "silver_like_dusting",
         "rawType": "int64",
         "type": "integer"
        },
        {
         "name": "small_dents_in_nails",
         "rawType": "int64",
         "type": "integer"
        },
        {
         "name": "inflammatory_nails",
         "rawType": "int64",
         "type": "integer"
        },
        {
         "name": "blister",
         "rawType": "int64",
         "type": "integer"
        },
        {
         "name": "red_sore_around_nose",
         "rawType": "int64",
         "type": "integer"
        },
        {
         "name": "yellow_crust_ooze",
         "rawType": "int64",
         "type": "integer"
        },
        {
         "name": "prognosis",
         "rawType": "object",
         "type": "string"
        }
       ],
       "ref": "333ff8c2-97be-476a-a703-2f1da50f972b",
       "rows": [
        [
         "0",
         "1",
         "1",
         "1",
         "0",
         "0",
         "0",
         "0",
         "0",
         "0",
         "0",
         "0",
         "0",
         "0",
         "0",
         "0",
         "0",
         "0",
         "0",
         "0",
         "0",
         "0",
         "0",
         "0",
         "0",
         "0",
         "0",
         "0",
         "0",
         "0",
         "0",
         "0",
         "0",
         "0",
         "0",
         "0",
         "0",
         "0",
         "0",
         "0",
         "0",
         "0",
         "0",
         "0",
         "0",
         "0",
         "0",
         "0",
         "0",
         "0",
         "0",
         "0",
         "0",
         "0",
         "0",
         "0",
         "0",
         "0",
         "0",
         "0",
         "0",
         "0",
         "0",
         "0",
         "0",
         "0",
         "0",
         "0",
         "0",
         "0",
         "0",
         "0",
         "0",
         "0",
         "0",
         "0",
         "0",
         "0",
         "0",
         "0",
         "0",
         "0",
         "0",
         "0",
         "0",
         "0",
         "0",
         "0",
         "0",
         "0",
         "0",
         "0",
         "0",
         "0",
         "0",
         "0",
         "0",
         "0",
         "0",
         "0",
         "0",
         "0",
         "0",
         "1",
         "0",
         "0",
         "0",
         "0",
         "0",
         "0",
         "0",
         "0",
         "0",
         "0",
         "0",
         "0",
         "0",
         "0",
         "0",
         "0",
         "0",
         "0",
         "0",
         "0",
         "0",
         "0",
         "0",
         "0",
         "0",
         "0",
         "0",
         "0",
         "0",
         "Fungal infection"
        ],
        [
         "1",
         "0",
         "1",
         "1",
         "0",
         "0",
         "0",
         "0",
         "0",
         "0",
         "0",
         "0",
         "0",
         "0",
         "0",
         "0",
         "0",
         "0",
         "0",
         "0",
         "0",
         "0",
         "0",
         "0",
         "0",
         "0",
         "0",
         "0",
         "0",
         "0",
         "0",
         "0",
         "0",
         "0",
         "0",
         "0",
         "0",
         "0",
         "0",
         "0",
         "0",
         "0",
         "0",
         "0",
         "0",
         "0",
         "0",
         "0",
         "0",
         "0",
         "0",
         "0",
         "0",
         "0",
         "0",
         "0",
         "0",
         "0",
         "0",
         "0",
         "0",
         "0",
         "0",
         "0",
         "0",
         "0",
         "0",
         "0",
         "0",
         "0",
         "0",
         "0",
         "0",
         "0",
         "0",
         "0",
         "0",
         "0",
         "0",
         "0",
         "0",
         "0",
         "0",
         "0",
         "0",
         "0",
         "0",
         "0",
         "0",
         "0",
         "0",
         "0",
         "0",
         "0",
         "0",
         "0",
         "0",
         "0",
         "0",
         "0",
         "0",
         "0",
         "0",
         "1",
         "0",
         "0",
         "0",
         "0",
         "0",
         "0",
         "0",
         "0",
         "0",
         "0",
         "0",
         "0",
         "0",
         "0",
         "0",
         "0",
         "0",
         "0",
         "0",
         "0",
         "0",
         "0",
         "0",
         "0",
         "0",
         "0",
         "0",
         "0",
         "0",
         "Fungal infection"
        ],
        [
         "2",
         "1",
         "0",
         "1",
         "0",
         "0",
         "0",
         "0",
         "0",
         "0",
         "0",
         "0",
         "0",
         "0",
         "0",
         "0",
         "0",
         "0",
         "0",
         "0",
         "0",
         "0",
         "0",
         "0",
         "0",
         "0",
         "0",
         "0",
         "0",
         "0",
         "0",
         "0",
         "0",
         "0",
         "0",
         "0",
         "0",
         "0",
         "0",
         "0",
         "0",
         "0",
         "0",
         "0",
         "0",
         "0",
         "0",
         "0",
         "0",
         "0",
         "0",
         "0",
         "0",
         "0",
         "0",
         "0",
         "0",
         "0",
         "0",
         "0",
         "0",
         "0",
         "0",
         "0",
         "0",
         "0",
         "0",
         "0",
         "0",
         "0",
         "0",
         "0",
         "0",
         "0",
         "0",
         "0",
         "0",
         "0",
         "0",
         "0",
         "0",
         "0",
         "0",
         "0",
         "0",
         "0",
         "0",
         "0",
         "0",
         "0",
         "0",
         "0",
         "0",
         "0",
         "0",
         "0",
         "0",
         "0",
         "0",
         "0",
         "0",
         "0",
         "0",
         "1",
         "0",
         "0",
         "0",
         "0",
         "0",
         "0",
         "0",
         "0",
         "0",
         "0",
         "0",
         "0",
         "0",
         "0",
         "0",
         "0",
         "0",
         "0",
         "0",
         "0",
         "0",
         "0",
         "0",
         "0",
         "0",
         "0",
         "0",
         "0",
         "0",
         "Fungal infection"
        ],
        [
         "3",
         "1",
         "1",
         "0",
         "0",
         "0",
         "0",
         "0",
         "0",
         "0",
         "0",
         "0",
         "0",
         "0",
         "0",
         "0",
         "0",
         "0",
         "0",
         "0",
         "0",
         "0",
         "0",
         "0",
         "0",
         "0",
         "0",
         "0",
         "0",
         "0",
         "0",
         "0",
         "0",
         "0",
         "0",
         "0",
         "0",
         "0",
         "0",
         "0",
         "0",
         "0",
         "0",
         "0",
         "0",
         "0",
         "0",
         "0",
         "0",
         "0",
         "0",
         "0",
         "0",
         "0",
         "0",
         "0",
         "0",
         "0",
         "0",
         "0",
         "0",
         "0",
         "0",
         "0",
         "0",
         "0",
         "0",
         "0",
         "0",
         "0",
         "0",
         "0",
         "0",
         "0",
         "0",
         "0",
         "0",
         "0",
         "0",
         "0",
         "0",
         "0",
         "0",
         "0",
         "0",
         "0",
         "0",
         "0",
         "0",
         "0",
         "0",
         "0",
         "0",
         "0",
         "0",
         "0",
         "0",
         "0",
         "0",
         "0",
         "0",
         "0",
         "0",
         "1",
         "0",
         "0",
         "0",
         "0",
         "0",
         "0",
         "0",
         "0",
         "0",
         "0",
         "0",
         "0",
         "0",
         "0",
         "0",
         "0",
         "0",
         "0",
         "0",
         "0",
         "0",
         "0",
         "0",
         "0",
         "0",
         "0",
         "0",
         "0",
         "0",
         "Fungal infection"
        ],
        [
         "4",
         "1",
         "1",
         "1",
         "0",
         "0",
         "0",
         "0",
         "0",
         "0",
         "0",
         "0",
         "0",
         "0",
         "0",
         "0",
         "0",
         "0",
         "0",
         "0",
         "0",
         "0",
         "0",
         "0",
         "0",
         "0",
         "0",
         "0",
         "0",
         "0",
         "0",
         "0",
         "0",
         "0",
         "0",
         "0",
         "0",
         "0",
         "0",
         "0",
         "0",
         "0",
         "0",
         "0",
         "0",
         "0",
         "0",
         "0",
         "0",
         "0",
         "0",
         "0",
         "0",
         "0",
         "0",
         "0",
         "0",
         "0",
         "0",
         "0",
         "0",
         "0",
         "0",
         "0",
         "0",
         "0",
         "0",
         "0",
         "0",
         "0",
         "0",
         "0",
         "0",
         "0",
         "0",
         "0",
         "0",
         "0",
         "0",
         "0",
         "0",
         "0",
         "0",
         "0",
         "0",
         "0",
         "0",
         "0",
         "0",
         "0",
         "0",
         "0",
         "0",
         "0",
         "0",
         "0",
         "0",
         "0",
         "0",
         "0",
         "0",
         "0",
         "0",
         "0",
         "0",
         "0",
         "0",
         "0",
         "0",
         "0",
         "0",
         "0",
         "0",
         "0",
         "0",
         "0",
         "0",
         "0",
         "0",
         "0",
         "0",
         "0",
         "0",
         "0",
         "0",
         "0",
         "0",
         "0",
         "0",
         "0",
         "0",
         "0",
         "0",
         "Fungal infection"
        ]
       ],
       "shape": {
        "columns": 133,
        "rows": 5
       }
      },
      "text/html": [
       "<div>\n",
       "<style scoped>\n",
       "    .dataframe tbody tr th:only-of-type {\n",
       "        vertical-align: middle;\n",
       "    }\n",
       "\n",
       "    .dataframe tbody tr th {\n",
       "        vertical-align: top;\n",
       "    }\n",
       "\n",
       "    .dataframe thead th {\n",
       "        text-align: right;\n",
       "    }\n",
       "</style>\n",
       "<table border=\"1\" class=\"dataframe\">\n",
       "  <thead>\n",
       "    <tr style=\"text-align: right;\">\n",
       "      <th></th>\n",
       "      <th>itching</th>\n",
       "      <th>skin_rash</th>\n",
       "      <th>nodal_skin_eruptions</th>\n",
       "      <th>continuous_sneezing</th>\n",
       "      <th>shivering</th>\n",
       "      <th>chills</th>\n",
       "      <th>joint_pain</th>\n",
       "      <th>stomach_pain</th>\n",
       "      <th>acidity</th>\n",
       "      <th>ulcers_on_tongue</th>\n",
       "      <th>...</th>\n",
       "      <th>blackheads</th>\n",
       "      <th>scurring</th>\n",
       "      <th>skin_peeling</th>\n",
       "      <th>silver_like_dusting</th>\n",
       "      <th>small_dents_in_nails</th>\n",
       "      <th>inflammatory_nails</th>\n",
       "      <th>blister</th>\n",
       "      <th>red_sore_around_nose</th>\n",
       "      <th>yellow_crust_ooze</th>\n",
       "      <th>prognosis</th>\n",
       "    </tr>\n",
       "  </thead>\n",
       "  <tbody>\n",
       "    <tr>\n",
       "      <th>0</th>\n",
       "      <td>1</td>\n",
       "      <td>1</td>\n",
       "      <td>1</td>\n",
       "      <td>0</td>\n",
       "      <td>0</td>\n",
       "      <td>0</td>\n",
       "      <td>0</td>\n",
       "      <td>0</td>\n",
       "      <td>0</td>\n",
       "      <td>0</td>\n",
       "      <td>...</td>\n",
       "      <td>0</td>\n",
       "      <td>0</td>\n",
       "      <td>0</td>\n",
       "      <td>0</td>\n",
       "      <td>0</td>\n",
       "      <td>0</td>\n",
       "      <td>0</td>\n",
       "      <td>0</td>\n",
       "      <td>0</td>\n",
       "      <td>Fungal infection</td>\n",
       "    </tr>\n",
       "    <tr>\n",
       "      <th>1</th>\n",
       "      <td>0</td>\n",
       "      <td>1</td>\n",
       "      <td>1</td>\n",
       "      <td>0</td>\n",
       "      <td>0</td>\n",
       "      <td>0</td>\n",
       "      <td>0</td>\n",
       "      <td>0</td>\n",
       "      <td>0</td>\n",
       "      <td>0</td>\n",
       "      <td>...</td>\n",
       "      <td>0</td>\n",
       "      <td>0</td>\n",
       "      <td>0</td>\n",
       "      <td>0</td>\n",
       "      <td>0</td>\n",
       "      <td>0</td>\n",
       "      <td>0</td>\n",
       "      <td>0</td>\n",
       "      <td>0</td>\n",
       "      <td>Fungal infection</td>\n",
       "    </tr>\n",
       "    <tr>\n",
       "      <th>2</th>\n",
       "      <td>1</td>\n",
       "      <td>0</td>\n",
       "      <td>1</td>\n",
       "      <td>0</td>\n",
       "      <td>0</td>\n",
       "      <td>0</td>\n",
       "      <td>0</td>\n",
       "      <td>0</td>\n",
       "      <td>0</td>\n",
       "      <td>0</td>\n",
       "      <td>...</td>\n",
       "      <td>0</td>\n",
       "      <td>0</td>\n",
       "      <td>0</td>\n",
       "      <td>0</td>\n",
       "      <td>0</td>\n",
       "      <td>0</td>\n",
       "      <td>0</td>\n",
       "      <td>0</td>\n",
       "      <td>0</td>\n",
       "      <td>Fungal infection</td>\n",
       "    </tr>\n",
       "    <tr>\n",
       "      <th>3</th>\n",
       "      <td>1</td>\n",
       "      <td>1</td>\n",
       "      <td>0</td>\n",
       "      <td>0</td>\n",
       "      <td>0</td>\n",
       "      <td>0</td>\n",
       "      <td>0</td>\n",
       "      <td>0</td>\n",
       "      <td>0</td>\n",
       "      <td>0</td>\n",
       "      <td>...</td>\n",
       "      <td>0</td>\n",
       "      <td>0</td>\n",
       "      <td>0</td>\n",
       "      <td>0</td>\n",
       "      <td>0</td>\n",
       "      <td>0</td>\n",
       "      <td>0</td>\n",
       "      <td>0</td>\n",
       "      <td>0</td>\n",
       "      <td>Fungal infection</td>\n",
       "    </tr>\n",
       "    <tr>\n",
       "      <th>4</th>\n",
       "      <td>1</td>\n",
       "      <td>1</td>\n",
       "      <td>1</td>\n",
       "      <td>0</td>\n",
       "      <td>0</td>\n",
       "      <td>0</td>\n",
       "      <td>0</td>\n",
       "      <td>0</td>\n",
       "      <td>0</td>\n",
       "      <td>0</td>\n",
       "      <td>...</td>\n",
       "      <td>0</td>\n",
       "      <td>0</td>\n",
       "      <td>0</td>\n",
       "      <td>0</td>\n",
       "      <td>0</td>\n",
       "      <td>0</td>\n",
       "      <td>0</td>\n",
       "      <td>0</td>\n",
       "      <td>0</td>\n",
       "      <td>Fungal infection</td>\n",
       "    </tr>\n",
       "  </tbody>\n",
       "</table>\n",
       "<p>5 rows × 133 columns</p>\n",
       "</div>"
      ],
      "text/plain": [
       "   itching  skin_rash  nodal_skin_eruptions  continuous_sneezing  shivering  \\\n",
       "0        1          1                     1                    0          0   \n",
       "1        0          1                     1                    0          0   \n",
       "2        1          0                     1                    0          0   \n",
       "3        1          1                     0                    0          0   \n",
       "4        1          1                     1                    0          0   \n",
       "\n",
       "   chills  joint_pain  stomach_pain  acidity  ulcers_on_tongue  ...  \\\n",
       "0       0           0             0        0                 0  ...   \n",
       "1       0           0             0        0                 0  ...   \n",
       "2       0           0             0        0                 0  ...   \n",
       "3       0           0             0        0                 0  ...   \n",
       "4       0           0             0        0                 0  ...   \n",
       "\n",
       "   blackheads  scurring  skin_peeling  silver_like_dusting  \\\n",
       "0           0         0             0                    0   \n",
       "1           0         0             0                    0   \n",
       "2           0         0             0                    0   \n",
       "3           0         0             0                    0   \n",
       "4           0         0             0                    0   \n",
       "\n",
       "   small_dents_in_nails  inflammatory_nails  blister  red_sore_around_nose  \\\n",
       "0                     0                   0        0                     0   \n",
       "1                     0                   0        0                     0   \n",
       "2                     0                   0        0                     0   \n",
       "3                     0                   0        0                     0   \n",
       "4                     0                   0        0                     0   \n",
       "\n",
       "   yellow_crust_ooze         prognosis  \n",
       "0                  0  Fungal infection  \n",
       "1                  0  Fungal infection  \n",
       "2                  0  Fungal infection  \n",
       "3                  0  Fungal infection  \n",
       "4                  0  Fungal infection  \n",
       "\n",
       "[5 rows x 133 columns]"
      ]
     },
     "execution_count": 4,
     "metadata": {},
     "output_type": "execute_result"
    }
   ],
   "source": [
    "df.head()"
   ]
  },
  {
   "cell_type": "code",
   "execution_count": 5,
   "id": "01c7e5c8",
   "metadata": {},
   "outputs": [
    {
     "data": {
      "text/plain": [
       "(4920, 133)"
      ]
     },
     "execution_count": 5,
     "metadata": {},
     "output_type": "execute_result"
    }
   ],
   "source": [
    "df.shape"
   ]
  },
  {
   "cell_type": "code",
   "execution_count": null,
   "id": "40502d3b",
   "metadata": {},
   "outputs": [],
   "source": []
  }
 ],
 "metadata": {
  "kernelspec": {
   "display_name": "env2",
   "language": "python",
   "name": "python3"
  },
  "language_info": {
   "codemirror_mode": {
    "name": "ipython",
    "version": 3
   },
   "file_extension": ".py",
   "mimetype": "text/x-python",
   "name": "python",
   "nbconvert_exporter": "python",
   "pygments_lexer": "ipython3",
   "version": "3.12.9"
  }
 },
 "nbformat": 4,
 "nbformat_minor": 5
}
